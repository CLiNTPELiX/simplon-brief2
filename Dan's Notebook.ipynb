{
 "cells": [
  {
   "cell_type": "markdown",
   "metadata": {},
   "source": [
    "## 1) Carry out a watch on many Database Management Systems. Propose a concrete example of use to argue your explanations.\n",
    "\n",
    "## Descriptions of classical Relational DBMS (strengths of classical relational DBMS and ACID properties, weaknesses of DBMS, etc.).\n",
    "\n",
    "## What are the specificities of NoSQL systems? \n",
    "\n",
    "## What are the specificities of NewSQL systems?"
   ]
  },
  {
   "cell_type": "raw",
   "metadata": {},
   "source": [
    "DBMS are:  Interfaces => Workstations\n",
    "           Processing => Programming language that process datas (SQL par ie)\n",
    "           Datas => DataBases (MySQL, MongoDB, ...)\n",
    "           \n",
    "Since 80's, relationnal DB are emerging to crush the oldest models. DB evolve's as the computer powers permit.\n",
    "Relational DB are perfect for actual GigaFlops power CPU and 'standard' usage but they completely overworked for big data and machine learning.\n",
    "\n",
    "NoSQL needs no locks to prevent slowdowns so those DB are perfectly sized for big datas and extreme speeds with very low latency. They work perfectly with multicores CPU and clusters in distributed computing.\n",
    "\n",
    "NewSQL (4th db's evolution) is at the early stage of top of technology based on extrem speed of processing.\n",
    "It runs directly in huge space of RAM "
   ]
  },
  {
   "cell_type": "markdown",
   "metadata": {},
   "source": [
    "# 2)"
   ]
  },
  {
   "cell_type": "code",
   "execution_count": 81,
   "metadata": {},
   "outputs": [],
   "source": [
    "import pandas as pd\n",
    "\n",
    "file = 'Netflix_Shows.csv'\n",
    "file2 = 'netflix_titles.csv'\n",
    "df = pd.read_csv(file, encoding='latin-1') #Latin-1 encoding\n"
   ]
  },
  {
   "cell_type": "code",
   "execution_count": 84,
   "metadata": {},
   "outputs": [
    {
     "data": {
      "text/html": [
       "<div>\n",
       "<style scoped>\n",
       "    .dataframe tbody tr th:only-of-type {\n",
       "        vertical-align: middle;\n",
       "    }\n",
       "\n",
       "    .dataframe tbody tr th {\n",
       "        vertical-align: top;\n",
       "    }\n",
       "\n",
       "    .dataframe thead th {\n",
       "        text-align: right;\n",
       "    }\n",
       "</style>\n",
       "<table border=\"1\" class=\"dataframe\">\n",
       "  <thead>\n",
       "    <tr style=\"text-align: right;\">\n",
       "      <th></th>\n",
       "      <th>title</th>\n",
       "      <th>rating</th>\n",
       "      <th>ratingLevel</th>\n",
       "      <th>ratingDescription</th>\n",
       "      <th>release year</th>\n",
       "      <th>user rating score</th>\n",
       "      <th>user rating size</th>\n",
       "    </tr>\n",
       "  </thead>\n",
       "  <tbody>\n",
       "    <tr>\n",
       "      <th>0</th>\n",
       "      <td>White Chicks</td>\n",
       "      <td>PG-13</td>\n",
       "      <td>crude and sexual humor, language and some drug...</td>\n",
       "      <td>80</td>\n",
       "      <td>2004</td>\n",
       "      <td>82.0</td>\n",
       "      <td>80</td>\n",
       "    </tr>\n",
       "    <tr>\n",
       "      <th>1</th>\n",
       "      <td>Lucky Number Slevin</td>\n",
       "      <td>R</td>\n",
       "      <td>strong violence, sexual content and adult lang...</td>\n",
       "      <td>100</td>\n",
       "      <td>2006</td>\n",
       "      <td>NaN</td>\n",
       "      <td>82</td>\n",
       "    </tr>\n",
       "    <tr>\n",
       "      <th>2</th>\n",
       "      <td>Grey's Anatomy</td>\n",
       "      <td>TV-14</td>\n",
       "      <td>Parents strongly cautioned. May be unsuitable ...</td>\n",
       "      <td>90</td>\n",
       "      <td>2016</td>\n",
       "      <td>98.0</td>\n",
       "      <td>80</td>\n",
       "    </tr>\n",
       "    <tr>\n",
       "      <th>3</th>\n",
       "      <td>Prison Break</td>\n",
       "      <td>TV-14</td>\n",
       "      <td>Parents strongly cautioned. May be unsuitable ...</td>\n",
       "      <td>90</td>\n",
       "      <td>2008</td>\n",
       "      <td>98.0</td>\n",
       "      <td>80</td>\n",
       "    </tr>\n",
       "    <tr>\n",
       "      <th>4</th>\n",
       "      <td>How I Met Your Mother</td>\n",
       "      <td>TV-PG</td>\n",
       "      <td>Parental guidance suggested. May not be suitab...</td>\n",
       "      <td>70</td>\n",
       "      <td>2014</td>\n",
       "      <td>94.0</td>\n",
       "      <td>80</td>\n",
       "    </tr>\n",
       "    <tr>\n",
       "      <th>...</th>\n",
       "      <td>...</td>\n",
       "      <td>...</td>\n",
       "      <td>...</td>\n",
       "      <td>...</td>\n",
       "      <td>...</td>\n",
       "      <td>...</td>\n",
       "      <td>...</td>\n",
       "    </tr>\n",
       "    <tr>\n",
       "      <th>995</th>\n",
       "      <td>The BFG</td>\n",
       "      <td>PG</td>\n",
       "      <td>for action/peril, some scary moments and brief...</td>\n",
       "      <td>60</td>\n",
       "      <td>2016</td>\n",
       "      <td>97.0</td>\n",
       "      <td>80</td>\n",
       "    </tr>\n",
       "    <tr>\n",
       "      <th>996</th>\n",
       "      <td>The Secret Life of Pets</td>\n",
       "      <td>PG</td>\n",
       "      <td>for action and some rude humor</td>\n",
       "      <td>60</td>\n",
       "      <td>2016</td>\n",
       "      <td>NaN</td>\n",
       "      <td>81</td>\n",
       "    </tr>\n",
       "    <tr>\n",
       "      <th>997</th>\n",
       "      <td>Precious Puppies</td>\n",
       "      <td>TV-G</td>\n",
       "      <td>Suitable for all ages.</td>\n",
       "      <td>35</td>\n",
       "      <td>2003</td>\n",
       "      <td>NaN</td>\n",
       "      <td>82</td>\n",
       "    </tr>\n",
       "    <tr>\n",
       "      <th>998</th>\n",
       "      <td>Beary Tales</td>\n",
       "      <td>TV-G</td>\n",
       "      <td>Suitable for all ages.</td>\n",
       "      <td>35</td>\n",
       "      <td>2013</td>\n",
       "      <td>NaN</td>\n",
       "      <td>82</td>\n",
       "    </tr>\n",
       "    <tr>\n",
       "      <th>999</th>\n",
       "      <td>Growing Up Wild</td>\n",
       "      <td>G</td>\n",
       "      <td>NaN</td>\n",
       "      <td>35</td>\n",
       "      <td>2016</td>\n",
       "      <td>80.0</td>\n",
       "      <td>80</td>\n",
       "    </tr>\n",
       "  </tbody>\n",
       "</table>\n",
       "<p>1000 rows × 7 columns</p>\n",
       "</div>"
      ],
      "text/plain": [
       "                       title rating  \\\n",
       "0               White Chicks  PG-13   \n",
       "1        Lucky Number Slevin      R   \n",
       "2             Grey's Anatomy  TV-14   \n",
       "3               Prison Break  TV-14   \n",
       "4      How I Met Your Mother  TV-PG   \n",
       "..                       ...    ...   \n",
       "995                  The BFG     PG   \n",
       "996  The Secret Life of Pets     PG   \n",
       "997         Precious Puppies   TV-G   \n",
       "998              Beary Tales   TV-G   \n",
       "999          Growing Up Wild      G   \n",
       "\n",
       "                                           ratingLevel  ratingDescription  \\\n",
       "0    crude and sexual humor, language and some drug...                 80   \n",
       "1    strong violence, sexual content and adult lang...                100   \n",
       "2    Parents strongly cautioned. May be unsuitable ...                 90   \n",
       "3    Parents strongly cautioned. May be unsuitable ...                 90   \n",
       "4    Parental guidance suggested. May not be suitab...                 70   \n",
       "..                                                 ...                ...   \n",
       "995  for action/peril, some scary moments and brief...                 60   \n",
       "996                     for action and some rude humor                 60   \n",
       "997                             Suitable for all ages.                 35   \n",
       "998                             Suitable for all ages.                 35   \n",
       "999                                                NaN                 35   \n",
       "\n",
       "     release year  user rating score  user rating size  \n",
       "0            2004               82.0                80  \n",
       "1            2006                NaN                82  \n",
       "2            2016               98.0                80  \n",
       "3            2008               98.0                80  \n",
       "4            2014               94.0                80  \n",
       "..            ...                ...               ...  \n",
       "995          2016               97.0                80  \n",
       "996          2016                NaN                81  \n",
       "997          2003                NaN                82  \n",
       "998          2013                NaN                82  \n",
       "999          2016               80.0                80  \n",
       "\n",
       "[1000 rows x 7 columns]"
      ]
     },
     "execution_count": 84,
     "metadata": {},
     "output_type": "execute_result"
    }
   ],
   "source": [
    "df"
   ]
  },
  {
   "cell_type": "code",
   "execution_count": 19,
   "metadata": {},
   "outputs": [
    {
     "data": {
      "text/plain": [
       "(1000, 7)"
      ]
     },
     "execution_count": 19,
     "metadata": {},
     "output_type": "execute_result"
    }
   ],
   "source": [
    "df.shape"
   ]
  },
  {
   "cell_type": "code",
   "execution_count": 20,
   "metadata": {},
   "outputs": [
    {
     "data": {
      "text/plain": [
       "Index(['title', 'rating', 'ratingLevel', 'ratingDescription', 'release year',\n",
       "       'user rating score', 'user rating size'],\n",
       "      dtype='object')"
      ]
     },
     "execution_count": 20,
     "metadata": {},
     "output_type": "execute_result"
    }
   ],
   "source": [
    "df.columns"
   ]
  },
  {
   "cell_type": "code",
   "execution_count": 50,
   "metadata": {},
   "outputs": [
    {
     "data": {
      "text/plain": [
       "title                 object\n",
       "rating                object\n",
       "ratingLevel           object\n",
       "ratingDescription      int64\n",
       "release year           int64\n",
       "user rating score    float64\n",
       "user rating size       int64\n",
       "dtype: object"
      ]
     },
     "execution_count": 50,
     "metadata": {},
     "output_type": "execute_result"
    }
   ],
   "source": [
    "df.dtypes"
   ]
  },
  {
   "cell_type": "code",
   "execution_count": 22,
   "metadata": {},
   "outputs": [
    {
     "data": {
      "text/plain": [
       "title                  0\n",
       "rating                 0\n",
       "ratingLevel           59\n",
       "ratingDescription      0\n",
       "release year           0\n",
       "user rating score    395\n",
       "user rating size       0\n",
       "dtype: int64"
      ]
     },
     "execution_count": 22,
     "metadata": {},
     "output_type": "execute_result"
    }
   ],
   "source": [
    "df.isnull().sum()"
   ]
  },
  {
   "cell_type": "code",
   "execution_count": 23,
   "metadata": {},
   "outputs": [
    {
     "data": {
      "text/plain": [
       "7000"
      ]
     },
     "execution_count": 23,
     "metadata": {},
     "output_type": "execute_result"
    }
   ],
   "source": [
    "df.size"
   ]
  },
  {
   "cell_type": "code",
   "execution_count": 25,
   "metadata": {},
   "outputs": [
    {
     "data": {
      "text/html": [
       "<div>\n",
       "<style scoped>\n",
       "    .dataframe tbody tr th:only-of-type {\n",
       "        vertical-align: middle;\n",
       "    }\n",
       "\n",
       "    .dataframe tbody tr th {\n",
       "        vertical-align: top;\n",
       "    }\n",
       "\n",
       "    .dataframe thead th {\n",
       "        text-align: right;\n",
       "    }\n",
       "</style>\n",
       "<table border=\"1\" class=\"dataframe\">\n",
       "  <thead>\n",
       "    <tr style=\"text-align: right;\">\n",
       "      <th></th>\n",
       "      <th>ratingDescription</th>\n",
       "      <th>release year</th>\n",
       "      <th>user rating score</th>\n",
       "      <th>user rating size</th>\n",
       "    </tr>\n",
       "  </thead>\n",
       "  <tbody>\n",
       "    <tr>\n",
       "      <th>count</th>\n",
       "      <td>1000.00000</td>\n",
       "      <td>1000.000000</td>\n",
       "      <td>605.000000</td>\n",
       "      <td>1000.000000</td>\n",
       "    </tr>\n",
       "    <tr>\n",
       "      <th>mean</th>\n",
       "      <td>67.36600</td>\n",
       "      <td>2010.335000</td>\n",
       "      <td>84.094215</td>\n",
       "      <td>80.783000</td>\n",
       "    </tr>\n",
       "    <tr>\n",
       "      <th>std</th>\n",
       "      <td>30.78561</td>\n",
       "      <td>8.877927</td>\n",
       "      <td>12.344371</td>\n",
       "      <td>0.973066</td>\n",
       "    </tr>\n",
       "    <tr>\n",
       "      <th>min</th>\n",
       "      <td>10.00000</td>\n",
       "      <td>1940.000000</td>\n",
       "      <td>55.000000</td>\n",
       "      <td>80.000000</td>\n",
       "    </tr>\n",
       "    <tr>\n",
       "      <th>25%</th>\n",
       "      <td>35.00000</td>\n",
       "      <td>2007.000000</td>\n",
       "      <td>75.000000</td>\n",
       "      <td>80.000000</td>\n",
       "    </tr>\n",
       "    <tr>\n",
       "      <th>50%</th>\n",
       "      <td>60.00000</td>\n",
       "      <td>2015.000000</td>\n",
       "      <td>88.000000</td>\n",
       "      <td>80.000000</td>\n",
       "    </tr>\n",
       "    <tr>\n",
       "      <th>75%</th>\n",
       "      <td>90.00000</td>\n",
       "      <td>2016.000000</td>\n",
       "      <td>95.000000</td>\n",
       "      <td>82.000000</td>\n",
       "    </tr>\n",
       "    <tr>\n",
       "      <th>max</th>\n",
       "      <td>124.00000</td>\n",
       "      <td>2017.000000</td>\n",
       "      <td>99.000000</td>\n",
       "      <td>82.000000</td>\n",
       "    </tr>\n",
       "  </tbody>\n",
       "</table>\n",
       "</div>"
      ],
      "text/plain": [
       "       ratingDescription  release year  user rating score  user rating size\n",
       "count         1000.00000   1000.000000         605.000000       1000.000000\n",
       "mean            67.36600   2010.335000          84.094215         80.783000\n",
       "std             30.78561      8.877927          12.344371          0.973066\n",
       "min             10.00000   1940.000000          55.000000         80.000000\n",
       "25%             35.00000   2007.000000          75.000000         80.000000\n",
       "50%             60.00000   2015.000000          88.000000         80.000000\n",
       "75%             90.00000   2016.000000          95.000000         82.000000\n",
       "max            124.00000   2017.000000          99.000000         82.000000"
      ]
     },
     "execution_count": 25,
     "metadata": {},
     "output_type": "execute_result"
    }
   ],
   "source": [
    "df.describe()"
   ]
  },
  {
   "cell_type": "code",
   "execution_count": 26,
   "metadata": {},
   "outputs": [
    {
     "data": {
      "text/plain": [
       "ratingDescription      67.366000\n",
       "release year         2010.335000\n",
       "user rating score      84.094215\n",
       "user rating size       80.783000\n",
       "dtype: float64"
      ]
     },
     "execution_count": 26,
     "metadata": {},
     "output_type": "execute_result"
    }
   ],
   "source": [
    "df.mean()"
   ]
  },
  {
   "cell_type": "code",
   "execution_count": 27,
   "metadata": {},
   "outputs": [
    {
     "data": {
      "text/plain": [
       "ratingDescription      60.0\n",
       "release year         2015.0\n",
       "user rating score      88.0\n",
       "user rating size       80.0\n",
       "dtype: float64"
      ]
     },
     "execution_count": 27,
     "metadata": {},
     "output_type": "execute_result"
    }
   ],
   "source": [
    "df.median()"
   ]
  },
  {
   "cell_type": "code",
   "execution_count": 28,
   "metadata": {},
   "outputs": [
    {
     "data": {
      "text/plain": [
       "title                10 Things I Hate About You\n",
       "rating                                        G\n",
       "ratingDescription                            10\n",
       "release year                               1940\n",
       "user rating score                            55\n",
       "user rating size                             80\n",
       "dtype: object"
      ]
     },
     "execution_count": 28,
     "metadata": {},
     "output_type": "execute_result"
    }
   ],
   "source": [
    "df.min()"
   ]
  },
  {
   "cell_type": "code",
   "execution_count": 34,
   "metadata": {},
   "outputs": [
    {
     "data": {
      "text/plain": [
       "title                ÌÒ Pai, ÌÒ - Look at This\n",
       "rating                                      UR\n",
       "ratingDescription                          124\n",
       "release year                              2017\n",
       "user rating score                           99\n",
       "user rating size                            82\n",
       "dtype: object"
      ]
     },
     "execution_count": 34,
     "metadata": {},
     "output_type": "execute_result"
    }
   ],
   "source": [
    "df.max()"
   ]
  },
  {
   "cell_type": "code",
   "execution_count": 35,
   "metadata": {},
   "outputs": [
    {
     "data": {
      "text/plain": [
       "array([[<AxesSubplot:title={'center':'ratingDescription'}>,\n",
       "        <AxesSubplot:title={'center':'release year'}>],\n",
       "       [<AxesSubplot:title={'center':'user rating score'}>,\n",
       "        <AxesSubplot:title={'center':'user rating size'}>]], dtype=object)"
      ]
     },
     "execution_count": 35,
     "metadata": {},
     "output_type": "execute_result"
    },
    {
     "data": {
      "image/png": "[encoded data removed]",
      "text/plain": [
       "<Figure size 432x288 with 4 Axes>"
      ]
     },
     "metadata": {
      "needs_background": "light"
     },
     "output_type": "display_data"
    }
   ],
   "source": [
    "df.hist()"
   ]
  },
  {
   "cell_type": "code",
   "execution_count": 51,
   "metadata": {},
   "outputs": [
    {
     "data": {
      "text/html": [
       "<div>\n",
       "<style scoped>\n",
       "    .dataframe tbody tr th:only-of-type {\n",
       "        vertical-align: middle;\n",
       "    }\n",
       "\n",
       "    .dataframe tbody tr th {\n",
       "        vertical-align: top;\n",
       "    }\n",
       "\n",
       "    .dataframe thead th {\n",
       "        text-align: right;\n",
       "    }\n",
       "</style>\n",
       "<table border=\"1\" class=\"dataframe\">\n",
       "  <thead>\n",
       "    <tr style=\"text-align: right;\">\n",
       "      <th></th>\n",
       "      <th>title</th>\n",
       "      <th>rating</th>\n",
       "      <th>ratingLevel</th>\n",
       "      <th>ratingDescription</th>\n",
       "      <th>release year</th>\n",
       "      <th>user rating score</th>\n",
       "      <th>user rating size</th>\n",
       "    </tr>\n",
       "  </thead>\n",
       "  <tbody>\n",
       "    <tr>\n",
       "      <th>0</th>\n",
       "      <td>White Chicks</td>\n",
       "      <td>PG-13</td>\n",
       "      <td>crude and sexual humor, language and some drug...</td>\n",
       "      <td>80</td>\n",
       "      <td>2004</td>\n",
       "      <td>82.0</td>\n",
       "      <td>80</td>\n",
       "    </tr>\n",
       "    <tr>\n",
       "      <th>1</th>\n",
       "      <td>Lucky Number Slevin</td>\n",
       "      <td>R</td>\n",
       "      <td>strong violence, sexual content and adult lang...</td>\n",
       "      <td>100</td>\n",
       "      <td>2006</td>\n",
       "      <td>NaN</td>\n",
       "      <td>82</td>\n",
       "    </tr>\n",
       "    <tr>\n",
       "      <th>2</th>\n",
       "      <td>Grey's Anatomy</td>\n",
       "      <td>TV-14</td>\n",
       "      <td>Parents strongly cautioned. May be unsuitable ...</td>\n",
       "      <td>90</td>\n",
       "      <td>2016</td>\n",
       "      <td>98.0</td>\n",
       "      <td>80</td>\n",
       "    </tr>\n",
       "    <tr>\n",
       "      <th>3</th>\n",
       "      <td>Prison Break</td>\n",
       "      <td>TV-14</td>\n",
       "      <td>Parents strongly cautioned. May be unsuitable ...</td>\n",
       "      <td>90</td>\n",
       "      <td>2008</td>\n",
       "      <td>98.0</td>\n",
       "      <td>80</td>\n",
       "    </tr>\n",
       "    <tr>\n",
       "      <th>4</th>\n",
       "      <td>How I Met Your Mother</td>\n",
       "      <td>TV-PG</td>\n",
       "      <td>Parental guidance suggested. May not be suitab...</td>\n",
       "      <td>70</td>\n",
       "      <td>2014</td>\n",
       "      <td>94.0</td>\n",
       "      <td>80</td>\n",
       "    </tr>\n",
       "    <tr>\n",
       "      <th>...</th>\n",
       "      <td>...</td>\n",
       "      <td>...</td>\n",
       "      <td>...</td>\n",
       "      <td>...</td>\n",
       "      <td>...</td>\n",
       "      <td>...</td>\n",
       "      <td>...</td>\n",
       "    </tr>\n",
       "    <tr>\n",
       "      <th>995</th>\n",
       "      <td>The BFG</td>\n",
       "      <td>PG</td>\n",
       "      <td>for action/peril, some scary moments and brief...</td>\n",
       "      <td>60</td>\n",
       "      <td>2016</td>\n",
       "      <td>97.0</td>\n",
       "      <td>80</td>\n",
       "    </tr>\n",
       "    <tr>\n",
       "      <th>996</th>\n",
       "      <td>The Secret Life of Pets</td>\n",
       "      <td>PG</td>\n",
       "      <td>for action and some rude humor</td>\n",
       "      <td>60</td>\n",
       "      <td>2016</td>\n",
       "      <td>NaN</td>\n",
       "      <td>81</td>\n",
       "    </tr>\n",
       "    <tr>\n",
       "      <th>997</th>\n",
       "      <td>Precious Puppies</td>\n",
       "      <td>TV-G</td>\n",
       "      <td>Suitable for all ages.</td>\n",
       "      <td>35</td>\n",
       "      <td>2003</td>\n",
       "      <td>NaN</td>\n",
       "      <td>82</td>\n",
       "    </tr>\n",
       "    <tr>\n",
       "      <th>998</th>\n",
       "      <td>Beary Tales</td>\n",
       "      <td>TV-G</td>\n",
       "      <td>Suitable for all ages.</td>\n",
       "      <td>35</td>\n",
       "      <td>2013</td>\n",
       "      <td>NaN</td>\n",
       "      <td>82</td>\n",
       "    </tr>\n",
       "    <tr>\n",
       "      <th>999</th>\n",
       "      <td>Growing Up Wild</td>\n",
       "      <td>G</td>\n",
       "      <td>NaN</td>\n",
       "      <td>35</td>\n",
       "      <td>2016</td>\n",
       "      <td>80.0</td>\n",
       "      <td>80</td>\n",
       "    </tr>\n",
       "  </tbody>\n",
       "</table>\n",
       "<p>1000 rows × 7 columns</p>\n",
       "</div>"
      ],
      "text/plain": [
       "                       title rating  \\\n",
       "0               White Chicks  PG-13   \n",
       "1        Lucky Number Slevin      R   \n",
       "2             Grey's Anatomy  TV-14   \n",
       "3               Prison Break  TV-14   \n",
       "4      How I Met Your Mother  TV-PG   \n",
       "..                       ...    ...   \n",
       "995                  The BFG     PG   \n",
       "996  The Secret Life of Pets     PG   \n",
       "997         Precious Puppies   TV-G   \n",
       "998              Beary Tales   TV-G   \n",
       "999          Growing Up Wild      G   \n",
       "\n",
       "                                           ratingLevel  ratingDescription  \\\n",
       "0    crude and sexual humor, language and some drug...                 80   \n",
       "1    strong violence, sexual content and adult lang...                100   \n",
       "2    Parents strongly cautioned. May be unsuitable ...                 90   \n",
       "3    Parents strongly cautioned. May be unsuitable ...                 90   \n",
       "4    Parental guidance suggested. May not be suitab...                 70   \n",
       "..                                                 ...                ...   \n",
       "995  for action/peril, some scary moments and brief...                 60   \n",
       "996                     for action and some rude humor                 60   \n",
       "997                             Suitable for all ages.                 35   \n",
       "998                             Suitable for all ages.                 35   \n",
       "999                                                NaN                 35   \n",
       "\n",
       "     release year  user rating score  user rating size  \n",
       "0            2004               82.0                80  \n",
       "1            2006                NaN                82  \n",
       "2            2016               98.0                80  \n",
       "3            2008               98.0                80  \n",
       "4            2014               94.0                80  \n",
       "..            ...                ...               ...  \n",
       "995          2016               97.0                80  \n",
       "996          2016                NaN                81  \n",
       "997          2003                NaN                82  \n",
       "998          2013                NaN                82  \n",
       "999          2016               80.0                80  \n",
       "\n",
       "[1000 rows x 7 columns]"
      ]
     },
     "execution_count": 51,
     "metadata": {},
     "output_type": "execute_result"
    }
   ],
   "source": [
    "\n",
    "df"
   ]
  },
  {
   "cell_type": "code",
   "execution_count": 52,
   "metadata": {},
   "outputs": [
    {
     "data": {
      "text/plain": [
       "title                 object\n",
       "rating                object\n",
       "ratingLevel           object\n",
       "ratingDescription      int64\n",
       "release year           int64\n",
       "user rating score    float64\n",
       "user rating size       int64\n",
       "dtype: object"
      ]
     },
     "execution_count": 52,
     "metadata": {},
     "output_type": "execute_result"
    }
   ],
   "source": [
    "df.dtypes"
   ]
  },
  {
   "cell_type": "raw",
   "metadata": {},
   "source": [
    "Taille de la colonne "
   ]
  },
  {
   "cell_type": "code",
   "execution_count": 61,
   "metadata": {},
   "outputs": [
    {
     "data": {
      "text/plain": [
       "8"
      ]
     },
     "execution_count": 61,
     "metadata": {},
     "output_type": "execute_result"
    }
   ],
   "source": [
    "max(df.astype(str).rating.apply(len)) #"
   ]
  },
  {
   "cell_type": "code",
   "execution_count": 62,
   "metadata": {},
   "outputs": [
    {
     "data": {
      "text/plain": [
       "125"
      ]
     },
     "execution_count": 62,
     "metadata": {},
     "output_type": "execute_result"
    }
   ],
   "source": [
    "max(df.astype(str).ratingLevel.apply(len)) #"
   ]
  },
  {
   "cell_type": "code",
   "execution_count": 63,
   "metadata": {},
   "outputs": [
    {
     "data": {
      "text/plain": [
       "3"
      ]
     },
     "execution_count": 63,
     "metadata": {},
     "output_type": "execute_result"
    }
   ],
   "source": [
    "max(df.astype(str).ratingDescription.apply(len)) #"
   ]
  },
  {
   "cell_type": "code",
   "execution_count": 60,
   "metadata": {
    "scrolled": true
   },
   "outputs": [
    {
     "data": {
      "text/plain": [
       "63"
      ]
     },
     "execution_count": 60,
     "metadata": {},
     "output_type": "execute_result"
    }
   ],
   "source": [
    "max(df.astype(str).title.apply(len)) #"
   ]
  },
  {
   "cell_type": "code",
   "execution_count": 100,
   "metadata": {
    "scrolled": true
   },
   "outputs": [
    {
     "data": {
      "text/plain": [
       "2017"
      ]
     },
     "execution_count": 100,
     "metadata": {},
     "output_type": "execute_result"
    }
   ],
   "source": [
    "df['release year'].max()"
   ]
  },
  {
   "cell_type": "markdown",
   "metadata": {},
   "source": [
    "# 3) Create netflix database"
   ]
  },
  {
   "cell_type": "raw",
   "metadata": {},
   "source": [
    "create database netflix;\n",
    "use netflix;"
   ]
  },
  {
   "cell_type": "markdown",
   "metadata": {},
   "source": [
    "# 4) Create a 'netflix_title' table and import data from 'netflix_titles.csv' file"
   ]
  },
  {
   "cell_type": "raw",
   "metadata": {},
   "source": [
    "netflix_title.sql file creation:\n",
    "\n",
    "CREATE TABLE netflix_title(\n",
    "   show_id      INT NOT NULL PRIMARY KEY \n",
    "  ,type         VARCHAR(7) NOT NULL\n",
    "  ,title        VARCHAR(104) NOT NULL\n",
    "  ,director     VARCHAR(208)\n",
    "  ,cast         VARCHAR(771)\n",
    "  ,country      VARCHAR(123)\n",
    "  ,date_added   DATE \n",
    "  ,release_year INT NOT NULL\n",
    "  ,rating       VARCHAR(8)\n",
    "  ,duration     VARCHAR(10) NOT NULL\n",
    "  ,listed_in    VARCHAR(79) NOT NULL\n",
    "  ,description  VARCHAR(248) NOT NULL\n",
    ");\n",
    "\n",
    "Send SQL file into db:\n",
    "    \n",
    "mysql -u dan -p netflix < netflix_title.sql   \n",
    "\n",
    "Filled datas in netflix_title table\n",
    "\n",
    "LOAD DATA LOCAL INFILE '/home/dan/Code/repositoryGIT/sql/netflix_titles.csv' INTO TABLE netflix_title FIELDS TERMINATED BY ',' ENCLOSED BY '\"' LINES TERMINATED BY '\\r\\n' IGNORE 1 ROWS;"
   ]
  },
  {
   "cell_type": "markdown",
   "metadata": {},
   "source": [
    "# 5) Create a 'netflix_shows' from 'Netflix Shows.csv' file"
   ]
  },
  {
   "cell_type": "raw",
   "metadata": {},
   "source": [
    "Par convention, les colonnes ne doivent pas contenir des espaces mais des underscores"
   ]
  },
  {
   "cell_type": "raw",
   "metadata": {},
   "source": [
    "netflix_shows.sql file creation: \n",
    "\n",
    "CREATE TABLE netflix_shows(\n",
    "   title             VARCHAR(63) NOT NULL\n",
    "  ,rating            VARCHAR(8) NOT NULL\n",
    "  ,ratingLevel       VARCHAR(125)\n",
    "  ,ratingDescription INTEGER  NOT NULL\n",
    "  ,release_year      INTEGER  NOT NULL\n",
    "  ,user_rating_score FLOAT(4) NOT NULL \n",
    "  ,user_rating_size  INTEGER  NOT NULL\n",
    "  ,id INT NOT NULL AUTO_INCREMENT PRIMARY KEY #Position for importing datas w/ error\n",
    ");\n",
    "\n",
    "Send sql file into db:\n",
    "\n",
    "mysql -u dan -p netflix < netflix_shows.sql \n",
    "\n",
    "Filled datas in netflix_shows table\n",
    "\n",
    "LOAD DATA LOCAL INFILE '/home/dan/Code/repositoryGIT/sql/Netflix_Shows.csv' INTO TABLE netflix_shows FIELDS TERMINATED BY ',' ENCLOSED BY '\"' LINES TERMINATED BY '\\n' IGNORE 1 ROWS;"
   ]
  },
  {
   "cell_type": "raw",
   "metadata": {},
   "source": [
    "LOAD DATA LOCAL INFILE '/home/dan/Code/repositoryGIT/sql/Netflix_Shows.csv' INTO TABLE shows fields terminated by ',' ENCLOSED BY '\"' LINES TERMINATED BY '\\n' IGNORE 1 ROWS;"
   ]
  },
  {
   "cell_type": "code",
   "execution_count": null,
   "metadata": {},
   "outputs": [],
   "source": [
    "LOAD DATA LOCAL INFILE '/home/dan/Code/repositoryGIT/sql/Netflix_Shows.csv' INTO TABLE shows fields terminated by ',' ENCLOSED BY '\"' LINES TERMINATED BY '\\n' IGNORE 1 ROWS;"
   ]
  },
  {
   "cell_type": "markdown",
   "metadata": {},
   "source": [
    "# 6) Show all movies titles in the titles table whose IDs are less than 700250"
   ]
  },
  {
   "cell_type": "raw",
   "metadata": {},
   "source": [
    "MariaDB [netflix]> select show_id, title FROM netflix_titles WHERE show_id < 700250;\n",
    "+---------+---------------------------------+\n",
    "| show_id | title                           |\n",
    "+---------+---------------------------------+\n",
    "|       0 | title                           |\n",
    "|  247747 | Amar Akbar Anthony              |\n",
    "|  269880 | Bad Boys                        |\n",
    "|  281550 | La Bamba                        |\n",
    "|  284890 | Barsaat                         |\n",
    "|  292118 | Beavis and Butt-head Do America |\n",
    "|  296682 | Benji                           |\n",
    "|  347365 | Candyman                        |\n",
    "|  352989 | Carrie                          |\n",
    "|  372195 | Child's Play                    |\n",
    "|  374651 | Chitty Chitty Bang Bang         |\n",
    "|  382650 | Cleopatra Jones                 |\n",
    "|  404067 | The Craft                       |\n",
    "|  408911 | The Crow                        |\n",
    "|  419733 | The Dark Crystal                |\n",
    "|  449931 | Doctor Zhivago                  |\n",
    "|  484369 | The Evil Dead                   |\n",
    "|  485218 | Executive Decision              |\n",
    "|  498716 | Ferris Bueller's Day Off        |\n",
    "|  506464 | The First Wives Club            |\n",
    "|  510854 | The Flintstones                 |\n",
    "|  516154 | For the Love of Benji           |\n",
    "|  516788 | Forbidden Planet                |\n",
    "|  520489 | Four Weddings and a Funeral     |\n",
    "|  523650 | Free Willy                      |\n",
    "|  542137 | Gigi                            |\n",
    "|  569355 | Hamburger Hill                  |\n",
    "|  607931 | How to Make an American Quilt   |\n",
    "|  653673 | Jimi Hendrix                    |\n",
    "|  673843 | Kingpin                         |\n",
    "|  684847 | The Last Boy Scout              |\n",
    "|  699257 | Monty Python's Life of Brian    |\n",
    "+---------+---------------------------------+\n",
    "32 rows in set (0.001 sec)\n"
   ]
  },
  {
   "cell_type": "markdown",
   "metadata": {},
   "source": [
    "# 7) Display all TV Show durations&Movie's title\n"
   ]
  },
  {
   "cell_type": "code",
   "execution_count": null,
   "metadata": {},
   "outputs": [],
   "source": [
    "select title, duration FROM titles WHERE type = 'TV Show';"
   ]
  },
  {
   "cell_type": "code",
   "execution_count": null,
   "metadata": {},
   "outputs": [],
   "source": [
    "| Cocomong                                                      | 2 Seasons  |\n",
    "| ARASHI's Diary -Voyage-                                       | 1 Season   |\n",
    "| The Repair Shop                                               | 2 Seasons  |\n",
    "| Pucca: Love Recipe                                            | 1 Season   |\n",
    "| Rainbow Ruby                                                  | 1 Season   |\n",
    "| Robot Trains                                                  | 2 Seasons  |\n",
    "| Sym-Bionic Titan                                              | 1 Season   |\n",
    "+---------------------------------------------------------------+------------+\n",
    "1969 rows in set (0.006 sec)\n",
    "\n",
    "MariaDB [netflix]> \n"
   ]
  },
  {
   "cell_type": "markdown",
   "metadata": {},
   "source": [
    "# 8) Perform a technology watch on:"
   ]
  },
  {
   "cell_type": "raw",
   "metadata": {},
   "source": [
    "Sorting datas => ORDER BY col_name ASC/DESC (DESC by default)int\n",
    "Renaming => ALTER TABLE table_name CHANGE old_col_name new_col_name data_type; #(INT, VARCHAR, TEXT, DATE,...)\n",
    "Aggregate => SELECT client, SUM(prices) FROM purchases GROUP BY client\n",
    "Data join => https://sql.sh/cours/jointures\n",
    "Operation => https://www.w3schools.com/sql/sql_operators.asp\n",
    "\n",
    "SQL Logical Operators\n",
    "\n",
    "ALL \tTRUE if all of the subquery values meet the condition\t\n",
    "AND\t    TRUE if all the conditions separated by AND is TRUE\t\n",
    "ANY\t    TRUE if any of the subquery values meet the condition\t\n",
    "BETWEEN\tTRUE if the operand is within the range of comparisons\t\n",
    "EXISTS\tTRUE if the subquery returns one or more records\t\n",
    "IN\t    TRUE if the operand is equal to one of a list of expressions\t\n",
    "LIKE\tTRUE if the operand matches a pattern\t\n",
    "NOT\t    Displays a record if the condition(s) is NOT TRUE\t\n",
    "OR\t    TRUE if any of the conditions separated by OR is TRUE\t\n",
    "SOME\tTRUE if any of the subquery values meet the condition"
   ]
  },
  {
   "cell_type": "markdown",
   "metadata": {},
   "source": [
    "# 9)   Display all the movie names common to both tables (titles and shows) "
   ]
  },
  {
   "cell_type": "code",
   "execution_count": null,
   "metadata": {},
   "outputs": [],
   "source": [
    "SELECT DISTINCT netflix_shows.title FROM netflix_shows INNER JOIN netflix_title ON netflix_shows.title = netflix_title.title;"
   ]
  },
  {
   "cell_type": "raw",
   "metadata": {},
   "source": [
    "| Revenge                                              |\n",
    "| Underdogs                                            |\n",
    "+------------------------------------------------------+\n",
    "242 rows in set (1.835 sec)"
   ]
  },
  {
   "cell_type": "markdown",
   "metadata": {},
   "source": [
    "# 10) Calculate the total duration of all Movies on your titles table"
   ]
  },
  {
   "cell_type": "code",
   "execution_count": null,
   "metadata": {},
   "outputs": [],
   "source": [
    "SELECT count(duration) FROM netflix_title;"
   ]
  },
  {
   "cell_type": "raw",
   "metadata": {},
   "source": [
    "MariaDB [netflix]> SELECT SUM(duration) FROM titles;\n",
    "+---------------+\n",
    "| SUM(duration) |\n",
    "+---------------+\n",
    "|        422665 |\n",
    "+---------------+\n",
    "1 row in set, 6234 warnings (0.008 sec)\n",
    "\n",
    "Soit 7044h"
   ]
  },
  {
   "cell_type": "markdown",
   "metadata": {},
   "source": [
    "# 11) Count the number of TV Shows in shows table WHERE 'ratingLevel' is filled in"
   ]
  },
  {
   "cell_type": "code",
   "execution_count": null,
   "metadata": {},
   "outputs": [],
   "source": [
    "SELECT ratingLevel FROM netflix_shows WHERE ratingLevel IS NOT NULL;"
   ]
  },
  {
   "cell_type": "raw",
   "metadata": {},
   "source": [
    "| for action/peril, some scary moments and brief rude humor                                                                     |\n",
    "| for action and some rude humor                                                                                                |\n",
    "| Suitable for all ages.                                                                                                        |\n",
    "| Suitable for all ages.                                                                                                        |\n",
    "+-------------------------------------------------------------------------------------------------------------------------------+\n",
    "941 rows in set (0.002 sec)\n",
    "\n"
   ]
  },
  {
   "cell_type": "markdown",
   "metadata": {},
   "source": [
    "# 12) Count the movies and TV Shows for which the names (title) are the same on both tables and whose release_year is higher than 2016. "
   ]
  },
  {
   "cell_type": "code",
   "execution_count": null,
   "metadata": {},
   "outputs": [],
   "source": [
    "SELECT DISTINCT netflix_shows.title FROM netflix_shows INNER JOIN netflix_title ON netflix_shows.title = netflix_title.title WHERE netflix_shows.release_year>2016;"
   ]
  },
  {
   "cell_type": "raw",
   "metadata": {},
   "source": [
    "| Tramps                                |\n",
    "| Amy Schumer: The Leather Special      |\n",
    "| Slam                                  |\n",
    "| Louis C.K. 2017                       |\n",
    "| Felipe Neto: My Life Makes No Sense   |\n",
    "| Dave Chappelle                        |\n",
    "+---------------------------------------+\n",
    "37 rows in set (0.176 sec)"
   ]
  },
  {
   "cell_type": "markdown",
   "metadata": {},
   "source": [
    "# 13) Delete the 'rating' column from your 'netflix_shows' table"
   ]
  },
  {
   "cell_type": "code",
   "execution_count": null,
   "metadata": {},
   "outputs": [],
   "source": [
    "ALTER TABLE netflix_title DROP rating;"
   ]
  },
  {
   "cell_type": "markdown",
   "metadata": {},
   "source": [
    "# 14) Delete the last 100 rows of the 'netflix_shows' table"
   ]
  },
  {
   "cell_type": "code",
   "execution_count": null,
   "metadata": {},
   "outputs": [],
   "source": [
    "DELETE FROM netflix_title ORDER BY id DESC LIMIT 100;"
   ]
  },
  {
   "cell_type": "markdown",
   "metadata": {},
   "source": [
    "# 15) The \"ratingLevel\" field for the TV show \"Marvel's Iron Fist\" in the 'netflix_shows' table is empty, can you add a comment? "
   ]
  },
  {
   "cell_type": "raw",
   "metadata": {},
   "source": [
    "UPDATE netflix_shows SET ratingLevel = \"de la daubasse en barre\" WHERE title = \"Marvel's Iron Fist\";"
   ]
  },
  {
   "cell_type": "markdown",
   "metadata": {},
   "source": [
    "# 16) Carry out a watch on the Merise analysis and design model "
   ]
  },
  {
   "cell_type": "raw",
   "metadata": {},
   "source": [
    "Merise method:\n",
    "\n",
    "MERISE is a method of analysis and design based on the principle of the separation of data and processing. It has a certain number of models (or schemas) which are distributed on three levels:\n",
    "\n",
    "the MCD (conceptual level) => Entities/Associations Schema\n",
    "the MLD (logical or organizational level) => Entities => Tables & Adding Primary Keys;\n",
    "the MPD (physical level) => Specificities of the Database Engine"
   ]
  },
  {
   "cell_type": "markdown",
   "metadata": {},
   "source": [
    "# 17) Modelize the netflix Database  (Merise). What can you say about this modeling?"
   ]
  },
  {
   "cell_type": "raw",
   "metadata": {},
   "source": [
    "Powerful databases must have:\n",
    "    * No redundancy\n",
    "    * No transactional anomalies\n",
    "    * The data must be atomics \n",
    "    * The columns of a table must correspond to the attribute of the entity's model\n",
    "    * The primary keys of the table must be concise, semantic and invariable \n",
    "\n",
    "Users&Rating table are missing to\n",
    "\n",
    "Renaming table names respecting conventions => Shows & Titles\n",
    "\n",
    "So, two tables are not needed, we can simplify removing Shows table => Titles\n",
    "\n",
    "Feeding Titles with Shows Datas adding also many Shows's columns like 'ratingLevel', 'ratingDescription'\n",
    "\n",
    "New table Users with 'id', 'user_rating_score', 'user_rating_size' \n",
    "\n",
    "\n",
    "+-------------------+\n",
    "| Shows             | \n",
    "+-------------------+\n",
    "| id (pk)           | \n",
    "| title (fk)        |\n",
    "|                   |\n",
    "| ratingLevel       |\n",
    "| ratingDescription |\n",
    "|                   |\n",
    "| user_rating_score |\n",
    "| user_rating_size  | \n",
    "+-------------------+\n",
    "\n",
    "+--------------+\n",
    "| Titles       |\n",
    "+--------------+\n",
    "| id (pk)      |\n",
    "| type         |\n",
    "| title        |\n",
    "| director     |\n",
    "| cast         |\n",
    "| country      |\n",
    "| date_added   |\n",
    "| release_year |\n",
    "| rating       |\n",
    "| duration     |\n",
    "| listed_in    |\n",
    "| description  |\n",
    "+--------------+\n",
    "\n",
    "DB's Evolution (Not finished, pks missing) ====>\n",
    "\n",
    "\n",
    "+-------------------+\n",
    "| Users             |  An user can see 0 to many Titles\n",
    "+-------------------+  An user can rate 0 to many Titles\n",
    "| id (pk)           |  An user can rate 0 to many Titles\n",
    "| name              |\n",
    "|                   |\n",
    "+-------------------+\n",
    "\n",
    "+-------------------+ a rating is linked to one user \n",
    "| Ratings           | a rating is linked to a movies/show\n",
    "+-------------------+\n",
    "| id (pk)           |\n",
    "| rating_score      |\n",
    "| rating_size       |   \n",
    "+-------------------+\n",
    "\n",
    "+--------------+  A title can be rated by 0 to many user(s) \n",
    "| Titles       |\n",
    "+--------------+\n",
    "| id (pk)      |\n",
    "| type         |\n",
    "| title        |\n",
    "| director     |\n",
    "| cast         |\n",
    "| country      |\n",
    "| date_added   |\n",
    "| release_year |\n",
    "| rating       |\n",
    "| duration     |\n",
    "| listed_in    |\n",
    "| description  |\n",
    "+--------------+"
   ]
  },
  {
   "cell_type": "code",
   "execution_count": null,
   "metadata": {},
   "outputs": [],
   "source": []
  }
 ],
 "metadata": {
  "kernelspec": {
   "display_name": "Python 3",
   "language": "python",
   "name": "python3"
  },
  "language_info": {
   "codemirror_mode": {
    "name": "ipython",
    "version": 3
   },
   "file_extension": ".py",
   "mimetype": "text/x-python",
   "name": "python",
   "nbconvert_exporter": "python",
   "pygments_lexer": "ipython3",
   "version": "3.8.3"
  }
 },
 "nbformat": 4,
 "nbformat_minor": 4
}
